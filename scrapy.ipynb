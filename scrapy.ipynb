{
 "cells": [
  {
   "cell_type": "code",
   "execution_count": 1,
   "id": "416e9785-e8b7-40ec-9877-24741785855e",
   "metadata": {},
   "outputs": [],
   "source": [
    "import requests\n",
    "from bs4 import BeautifulSoup\n",
    "import csv"
   ]
  },
  {
   "cell_type": "code",
   "execution_count": 3,
   "id": "632c15b2-632f-4ff7-8f7a-d1565789172c",
   "metadata": {},
   "outputs": [],
   "source": [
    "stock_symbol = \"MCD\"\n",
    "url = f\"https://finance.yahoo.com/quote/{stock_symbol}/\""
   ]
  },
  {
   "cell_type": "code",
   "execution_count": 7,
   "id": "a62cc192-ff07-4a4e-baa2-5a7c1b14db74",
   "metadata": {},
   "outputs": [],
   "source": [
    "# Headers to mimic a real browser request\n",
    "headers = {\n",
    "    \"User-Agent\": \"Mozilla/5.0 (Windows NT 10.0; Win64; x64) AppleWebKit/537.36 (KHTML, like Gecko) Chrome/119.0.0.0 Safari/537.36\"\n",
    "}\n"
   ]
  },
  {
   "cell_type": "code",
   "execution_count": 9,
   "id": "42f9ea76-83c6-45ff-a17f-c45b01addfe8",
   "metadata": {},
   "outputs": [],
   "source": [
    "# Send request\n",
    "response = requests.get(url, headers=headers)"
   ]
  },
  {
   "cell_type": "code",
   "execution_count": 10,
   "id": "3645b7c1-94bf-4bf9-8854-280951d1c85c",
   "metadata": {},
   "outputs": [
    {
     "name": "stdout",
     "output_type": "stream",
     "text": [
      "🔹 Stock: MCD\n",
      "💰 Price: $6,046.75\n",
      "📉 Change: +17.75 ((+0.29%)%)\n",
      "✅ Data saved to mcd_stock_data.csv\n"
     ]
    }
   ],
   "source": [
    "# Check if the request was successful\n",
    "if response.status_code == 200:\n",
    "    soup = BeautifulSoup(response.text, \"html.parser\")\n",
    "\n",
    "    # Extract stock price\n",
    "    price_element = soup.find(\"fin-streamer\", {\"data-field\": \"regularMarketPrice\"})\n",
    "    price = price_element.text if price_element else \"N/A\"\n",
    "\n",
    "    # Extract price change\n",
    "    change_element = soup.find(\"fin-streamer\", {\"data-field\": \"regularMarketChange\"})\n",
    "    change = change_element.text if change_element else \"N/A\"\n",
    "\n",
    "    # Extract percentage change\n",
    "    percent_change_element = soup.find(\"fin-streamer\", {\"data-field\": \"regularMarketChangePercent\"})\n",
    "    percent_change = percent_change_element.text if percent_change_element else \"N/A\"\n",
    "\n",
    "    # Print results\n",
    "    print(f\"🔹 Stock: {stock_symbol}\")\n",
    "    print(f\"💰 Price: ${price}\")\n",
    "    print(f\"📉 Change: {change} ({percent_change}%)\")\n",
    "\n",
    "    # Save data to CSV\n",
    "    filename = \"mcd_stock_data.csv\"\n",
    "    with open(filename, mode=\"w\", newline=\"\") as file:\n",
    "        writer = csv.writer(file)\n",
    "        writer.writerow([\"Stock Symbol\", \"Price\", \"Change\", \"Percentage Change\"])\n",
    "        writer.writerow([stock_symbol, price, change, percent_change])\n",
    "\n",
    "    print(f\"✅ Data saved to {filename}\")\n",
    "\n",
    "else:\n",
    "    print(f\"❌ Failed to fetch data. Status Code: {response.status_code}\")"
   ]
  },
  {
   "cell_type": "code",
   "execution_count": null,
   "id": "c2ef2490-4400-4977-9327-260ac6d14b48",
   "metadata": {},
   "outputs": [],
   "source": []
  }
 ],
 "metadata": {
  "kernelspec": {
   "display_name": "Python [conda env:base] *",
   "language": "python",
   "name": "conda-base-py"
  },
  "language_info": {
   "codemirror_mode": {
    "name": "ipython",
    "version": 3
   },
   "file_extension": ".py",
   "mimetype": "text/x-python",
   "name": "python",
   "nbconvert_exporter": "python",
   "pygments_lexer": "ipython3",
   "version": "3.12.7"
  }
 },
 "nbformat": 4,
 "nbformat_minor": 5
}
